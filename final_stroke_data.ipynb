{
 "cells": [
  {
   "cell_type": "markdown",
   "metadata": {},
   "source": [
    "# STROKE PREDICTION - FINAL PROJECT"
   ]
  },
  {
   "cell_type": "markdown",
   "metadata": {},
   "source": [
    "# Obed Immanuel Raj - 185002071"
   ]
  },
  {
   "cell_type": "code",
   "execution_count": 1,
   "metadata": {
    "id": "1a348eef"
   },
   "outputs": [],
   "source": [
    "import pandas as pd\n",
    "import numpy as np\n",
    "np.random.seed(42)"
   ]
  },
  {
   "cell_type": "code",
   "execution_count": 2,
   "metadata": {
    "id": "a1a4810e"
   },
   "outputs": [],
   "source": [
    "pd.set_option('display.max_columns', None)\n",
    "def basicInfo(data):\n",
    "    print(type(data))\n",
    "    print(\"\\nDimensions :\", data.shape)\n",
    "    print('\\nNull Values:\\n',data.isna().sum(),sep='')\n",
    "    print('\\nColumns: \\n',data.columns,sep='')\n",
    "    print('\\n',data.info())\n",
    "    \n",
    "    "
   ]
  },
  {
   "cell_type": "markdown",
   "metadata": {
    "id": "4aacc93a"
   },
   "source": [
    "# Fetching data and getting basic info"
   ]
  },
  {
   "cell_type": "code",
   "execution_count": 3,
   "metadata": {
    "id": "666cb2da",
    "outputId": "9be0770b-5021-4ce4-e179-f14586be75df"
   },
   "outputs": [
    {
     "name": "stdout",
     "output_type": "stream",
     "text": [
      "<class 'pandas.core.frame.DataFrame'>\n",
      "\n",
      "Dimensions : (5110, 12)\n",
      "\n",
      "Null Values:\n",
      "id                     0\n",
      "gender                 0\n",
      "age                    0\n",
      "hypertension           0\n",
      "heart_disease          0\n",
      "ever_married           0\n",
      "work_type              0\n",
      "Residence_type         0\n",
      "avg_glucose_level      0\n",
      "bmi                  201\n",
      "smoking_status         0\n",
      "stroke                 0\n",
      "dtype: int64\n",
      "\n",
      "Columns: \n",
      "Index(['id', 'gender', 'age', 'hypertension', 'heart_disease', 'ever_married',\n",
      "       'work_type', 'Residence_type', 'avg_glucose_level', 'bmi',\n",
      "       'smoking_status', 'stroke'],\n",
      "      dtype='object')\n",
      "<class 'pandas.core.frame.DataFrame'>\n",
      "RangeIndex: 5110 entries, 0 to 5109\n",
      "Data columns (total 12 columns):\n",
      " #   Column             Non-Null Count  Dtype  \n",
      "---  ------             --------------  -----  \n",
      " 0   id                 5110 non-null   int64  \n",
      " 1   gender             5110 non-null   object \n",
      " 2   age                5110 non-null   float64\n",
      " 3   hypertension       5110 non-null   int64  \n",
      " 4   heart_disease      5110 non-null   int64  \n",
      " 5   ever_married       5110 non-null   object \n",
      " 6   work_type          5110 non-null   object \n",
      " 7   Residence_type     5110 non-null   object \n",
      " 8   avg_glucose_level  5110 non-null   float64\n",
      " 9   bmi                4909 non-null   float64\n",
      " 10  smoking_status     5110 non-null   object \n",
      " 11  stroke             5110 non-null   int64  \n",
      "dtypes: float64(3), int64(4), object(5)\n",
      "memory usage: 479.2+ KB\n",
      "\n",
      " None\n"
     ]
    }
   ],
   "source": [
    "data = pd.read_csv('stroke_data.csv')\n",
    "basicInfo(data)"
   ]
  },
  {
   "cell_type": "markdown",
   "metadata": {
    "id": "92a643b8"
   },
   "source": [
    "'bmi' (numerical attribute) has 201 missing values"
   ]
  },
  {
   "cell_type": "code",
   "execution_count": 4,
   "metadata": {
    "id": "5dafa5cd",
    "outputId": "85ceb07c-9cc0-4040-bffd-5b04ebe0af43"
   },
   "outputs": [
    {
     "name": "stdout",
     "output_type": "stream",
     "text": [
      "Head\n",
      "      id  gender   age  hypertension  heart_disease ever_married  \\\n",
      "0   9046    Male  67.0             0              1          Yes   \n",
      "1  51676  Female  61.0             0              0          Yes   \n",
      "2  31112    Male  80.0             0              1          Yes   \n",
      "3  60182  Female  49.0             0              0          Yes   \n",
      "4   1665  Female  79.0             1              0          Yes   \n",
      "\n",
      "       work_type Residence_type  avg_glucose_level   bmi   smoking_status  \\\n",
      "0        Private          Urban             228.69  36.6  formerly smoked   \n",
      "1  Self-employed          Rural             202.21   NaN     never smoked   \n",
      "2        Private          Rural             105.92  32.5     never smoked   \n",
      "3        Private          Urban             171.23  34.4           smokes   \n",
      "4  Self-employed          Rural             174.12  24.0     never smoked   \n",
      "\n",
      "   stroke  \n",
      "0       1  \n",
      "1       1  \n",
      "2       1  \n",
      "3       1  \n",
      "4       1  \n"
     ]
    }
   ],
   "source": [
    "print(\"Head\")\n",
    "print(data.head())"
   ]
  },
  {
   "cell_type": "code",
   "execution_count": 5,
   "metadata": {
    "id": "c184764c",
    "outputId": "d8da2e03-3ce9-4bc0-a4c3-911d8b7f804d"
   },
   "outputs": [
    {
     "name": "stdout",
     "output_type": "stream",
     "text": [
      "Description\n",
      "                 id          age  hypertension  heart_disease  \\\n",
      "count   5110.000000  5110.000000   5110.000000    5110.000000   \n",
      "mean   36517.829354    43.226614      0.097456       0.054012   \n",
      "std    21161.721625    22.612647      0.296607       0.226063   \n",
      "min       67.000000     0.080000      0.000000       0.000000   \n",
      "25%    17741.250000    25.000000      0.000000       0.000000   \n",
      "50%    36932.000000    45.000000      0.000000       0.000000   \n",
      "75%    54682.000000    61.000000      0.000000       0.000000   \n",
      "max    72940.000000    82.000000      1.000000       1.000000   \n",
      "\n",
      "       avg_glucose_level          bmi       stroke  \n",
      "count        5110.000000  4909.000000  5110.000000  \n",
      "mean          106.147677    28.893237     0.048728  \n",
      "std            45.283560     7.854067     0.215320  \n",
      "min            55.120000    10.300000     0.000000  \n",
      "25%            77.245000    23.500000     0.000000  \n",
      "50%            91.885000    28.100000     0.000000  \n",
      "75%           114.090000    33.100000     0.000000  \n",
      "max           271.740000    97.600000     1.000000  \n"
     ]
    }
   ],
   "source": [
    "print(\"Description\")\n",
    "print(data.describe())"
   ]
  },
  {
   "cell_type": "code",
   "execution_count": 6,
   "metadata": {
    "id": "6aba6dcb",
    "outputId": "e6d94ef0-cd53-415c-854b-5ecc313228a0"
   },
   "outputs": [
    {
     "name": "stdout",
     "output_type": "stream",
     "text": [
      "0    4612\n",
      "1     498\n",
      "Name: hypertension, dtype: int64\n"
     ]
    }
   ],
   "source": [
    "print(data['hypertension'].value_counts())\n",
    "data['hypertension'] = data['hypertension'].astype('object')"
   ]
  },
  {
   "cell_type": "code",
   "execution_count": 7,
   "metadata": {
    "id": "5fe6454a",
    "outputId": "12a0ef6d-1285-4ae8-b748-d057618fc7b8"
   },
   "outputs": [
    {
     "name": "stdout",
     "output_type": "stream",
     "text": [
      "0    4834\n",
      "1     276\n",
      "Name: heart_disease, dtype: int64\n"
     ]
    }
   ],
   "source": [
    "print(data['heart_disease'].value_counts())\n",
    "data['heart_disease'] = data['heart_disease'].astype('object')"
   ]
  },
  {
   "cell_type": "code",
   "execution_count": 8,
   "metadata": {
    "id": "52d50c6b",
    "outputId": "95f76b58-a4b2-4d37-86f0-dca62a915e0e"
   },
   "outputs": [
    {
     "data": {
      "text/plain": [
       "0    4861\n",
       "1     249\n",
       "Name: stroke, dtype: int64"
      ]
     },
     "execution_count": 8,
     "metadata": {},
     "output_type": "execute_result"
    }
   ],
   "source": [
    " data['stroke'].value_counts()"
   ]
  },
  {
   "cell_type": "markdown",
   "metadata": {
    "id": "a6406bb4"
   },
   "source": [
    "The data is skewed with only few stroke patients"
   ]
  },
  {
   "cell_type": "markdown",
   "metadata": {
    "id": "cb19bc15"
   },
   "source": [
    "# Stratified split on stroke status"
   ]
  },
  {
   "cell_type": "code",
   "execution_count": 9,
   "metadata": {},
   "outputs": [],
   "source": [
    "import matplotlib.pyplot as plt\n",
    "import seaborn as sns\n",
    "%matplotlib inline"
   ]
  },
  {
   "cell_type": "code",
   "execution_count": 10,
   "metadata": {
    "id": "e05e7c97",
    "outputId": "d501c8e7-2a47-482a-f299-89c7196dc041"
   },
   "outputs": [
    {
     "data": {
      "text/plain": [
       "(array([4861.,    0.,    0.,    0.,    0.,    0.,    0.,    0.,    0.,\n",
       "         249.]),\n",
       " array([0. , 0.1, 0.2, 0.3, 0.4, 0.5, 0.6, 0.7, 0.8, 0.9, 1. ]),\n",
       " <BarContainer object of 10 artists>)"
      ]
     },
     "execution_count": 10,
     "metadata": {},
     "output_type": "execute_result"
    },
    {
     "data": {
      "image/png": "[encoded data removed]",
      "text/plain": [
       "<Figure size 432x288 with 1 Axes>"
      ]
     },
     "metadata": {
      "needs_background": "light"
     },
     "output_type": "display_data"
    }
   ],
   "source": [
    "plt.hist(data['stroke'])"
   ]
  },
  {
   "cell_type": "code",
   "execution_count": 11,
   "metadata": {
    "id": "3d5395e6"
   },
   "outputs": [],
   "source": [
    "from sklearn.model_selection import StratifiedShuffleSplit\n",
    "split=StratifiedShuffleSplit(n_splits=1, test_size=0.2, random_state=42)\n",
    "for train_index, test_index in split.split(data, data['stroke']):\n",
    "    strat_train = data.iloc[train_index]\n",
    "    strat_test = data.iloc[test_index]"
   ]
  },
  {
   "cell_type": "code",
   "execution_count": 12,
   "metadata": {
    "id": "f771a6b3",
    "outputId": "6265b36a-9edb-4f12-925a-bb6316c64d05"
   },
   "outputs": [
    {
     "data": {
      "text/plain": [
       "0    0.951076\n",
       "1    0.048924\n",
       "Name: stroke, dtype: float64"
      ]
     },
     "execution_count": 12,
     "metadata": {},
     "output_type": "execute_result"
    }
   ],
   "source": [
    "strat_test[\"stroke\"].value_counts() / len(strat_test)"
   ]
  },
  {
   "cell_type": "code",
   "execution_count": 13,
   "metadata": {
    "id": "74f077d4"
   },
   "outputs": [],
   "source": [
    "stroke = strat_train.copy()"
   ]
  },
  {
   "cell_type": "markdown",
   "metadata": {
    "id": "e32f305a"
   },
   "source": [
    "# Visualisation"
   ]
  },
  {
   "cell_type": "code",
   "execution_count": 14,
   "metadata": {
    "id": "4330efdc",
    "outputId": "f885708d-7bf4-4896-9bfe-b70b78a7a297"
   },
   "outputs": [
    {
     "data": {
      "text/plain": [
       "<seaborn.axisgrid.FacetGrid at 0x15eba7a7100>"
      ]
     },
     "execution_count": 14,
     "metadata": {},
     "output_type": "execute_result"
    },
    {
     "data": {
      "image/png": "[encoded data removed]",
      "text/plain": [
       "<Figure size 402.375x360 with 1 Axes>"
      ]
     },
     "metadata": {
      "needs_background": "light"
     },
     "output_type": "display_data"
    }
   ],
   "source": [
    "sns.catplot(y=\"work_type\", hue=\"stroke\", kind=\"count\",\n",
    "            palette=\"pastel\", edgecolor=\".6\",\n",
    "            data=data)"
   ]
  },
  {
   "cell_type": "code",
   "execution_count": 15,
   "metadata": {
    "id": "2fb3b53f",
    "outputId": "b7673525-c1dd-434f-b131-085160f0ca7a"
   },
   "outputs": [
    {
     "data": {
      "text/plain": [
       "<AxesSubplot:xlabel='smoking_status', ylabel='count'>"
      ]
     },
     "execution_count": 15,
     "metadata": {},
     "output_type": "execute_result"
    },
    {
     "data": {
      "image/png": "[encoded data removed]",
      "text/plain": [
       "<Figure size 432x288 with 1 Axes>"
      ]
     },
     "metadata": {
      "needs_background": "light"
     },
     "output_type": "display_data"
    }
   ],
   "source": [
    "sns.countplot(x = stroke['smoking_status'], hue='stroke', data=stroke)"
   ]
  },
  {
   "cell_type": "code",
   "execution_count": 16,
   "metadata": {
    "id": "16584767",
    "outputId": "831c55e4-e23a-4db9-bb46-05bacbb6d825"
   },
   "outputs": [
    {
     "data": {
      "text/plain": [
       "<seaborn.axisgrid.FacetGrid at 0x15eba801af0>"
      ]
     },
     "execution_count": 16,
     "metadata": {},
     "output_type": "execute_result"
    },
    {
     "data": {
      "image/png": "[encoded data removed]",
      "text/plain": [
       "<Figure size 402.375x360 with 1 Axes>"
      ]
     },
     "metadata": {
      "needs_background": "light"
     },
     "output_type": "display_data"
    }
   ],
   "source": [
    "sns.catplot(y=\"heart_disease\", hue=\"stroke\", kind=\"count\",\n",
    "            palette=\"pastel\", edgecolor=\".6\",\n",
    "            data=data)"
   ]
  },
  {
   "cell_type": "code",
   "execution_count": 17,
   "metadata": {
    "id": "36956a94",
    "outputId": "5a38ae83-e43c-4303-977c-cfef6119df07"
   },
   "outputs": [
    {
     "data": {
      "text/plain": [
       "<AxesSubplot:>"
      ]
     },
     "execution_count": 17,
     "metadata": {},
     "output_type": "execute_result"
    },
    {
     "data": {
      "image/png": "[encoded data removed]",
      "text/plain": [
       "<Figure size 432x288 with 2 Axes>"
      ]
     },
     "metadata": {
      "needs_background": "light"
     },
     "output_type": "display_data"
    }
   ],
   "source": [
    "sns.heatmap(stroke.corr(), annot = True)"
   ]
  },
  {
   "cell_type": "code",
   "execution_count": 18,
   "metadata": {
    "id": "b8bdb5d9",
    "outputId": "d4240ee0-1ccd-48c7-a67a-95edcf827424"
   },
   "outputs": [
    {
     "data": {
      "text/plain": [
       "<AxesSubplot:>"
      ]
     },
     "execution_count": 18,
     "metadata": {},
     "output_type": "execute_result"
    },
    {
     "data": {
      "image/png": "[encoded data removed]",
      "text/plain": [
       "<Figure size 432x288 with 1 Axes>"
      ]
     },
     "metadata": {
      "needs_background": "light"
     },
     "output_type": "display_data"
    }
   ],
   "source": [
    "stroke.corr().stroke.sort_values()[1:-1].plot(kind='barh')"
   ]
  },
  {
   "cell_type": "code",
   "execution_count": 19,
   "metadata": {
    "id": "59534d4d",
    "outputId": "483903ab-caa8-43ea-fc66-f85a3aba77ad"
   },
   "outputs": [
    {
     "data": {
      "text/html": [
       "<div>\n",
       "<style scoped>\n",
       "    .dataframe tbody tr th:only-of-type {\n",
       "        vertical-align: middle;\n",
       "    }\n",
       "\n",
       "    .dataframe tbody tr th {\n",
       "        vertical-align: top;\n",
       "    }\n",
       "\n",
       "    .dataframe thead th {\n",
       "        text-align: right;\n",
       "    }\n",
       "</style>\n",
       "<table border=\"1\" class=\"dataframe\">\n",
       "  <thead>\n",
       "    <tr style=\"text-align: right;\">\n",
       "      <th></th>\n",
       "      <th>id</th>\n",
       "      <th>age</th>\n",
       "      <th>avg_glucose_level</th>\n",
       "      <th>bmi</th>\n",
       "      <th>stroke</th>\n",
       "    </tr>\n",
       "  </thead>\n",
       "  <tbody>\n",
       "    <tr>\n",
       "      <th>count</th>\n",
       "      <td>4088.000000</td>\n",
       "      <td>4088.000000</td>\n",
       "      <td>4088.000000</td>\n",
       "      <td>3918.000000</td>\n",
       "      <td>4088.000000</td>\n",
       "    </tr>\n",
       "    <tr>\n",
       "      <th>mean</th>\n",
       "      <td>36547.666585</td>\n",
       "      <td>43.353288</td>\n",
       "      <td>106.317167</td>\n",
       "      <td>28.922180</td>\n",
       "      <td>0.048679</td>\n",
       "    </tr>\n",
       "    <tr>\n",
       "      <th>std</th>\n",
       "      <td>21238.482961</td>\n",
       "      <td>22.596816</td>\n",
       "      <td>45.259652</td>\n",
       "      <td>7.928378</td>\n",
       "      <td>0.215223</td>\n",
       "    </tr>\n",
       "    <tr>\n",
       "      <th>min</th>\n",
       "      <td>77.000000</td>\n",
       "      <td>0.080000</td>\n",
       "      <td>55.120000</td>\n",
       "      <td>10.300000</td>\n",
       "      <td>0.000000</td>\n",
       "    </tr>\n",
       "    <tr>\n",
       "      <th>25%</th>\n",
       "      <td>17621.500000</td>\n",
       "      <td>26.000000</td>\n",
       "      <td>77.312500</td>\n",
       "      <td>23.600000</td>\n",
       "      <td>0.000000</td>\n",
       "    </tr>\n",
       "    <tr>\n",
       "      <th>50%</th>\n",
       "      <td>36963.500000</td>\n",
       "      <td>45.000000</td>\n",
       "      <td>91.945000</td>\n",
       "      <td>28.000000</td>\n",
       "      <td>0.000000</td>\n",
       "    </tr>\n",
       "    <tr>\n",
       "      <th>75%</th>\n",
       "      <td>54787.750000</td>\n",
       "      <td>61.000000</td>\n",
       "      <td>114.197500</td>\n",
       "      <td>33.100000</td>\n",
       "      <td>0.000000</td>\n",
       "    </tr>\n",
       "    <tr>\n",
       "      <th>max</th>\n",
       "      <td>72940.000000</td>\n",
       "      <td>82.000000</td>\n",
       "      <td>271.740000</td>\n",
       "      <td>97.600000</td>\n",
       "      <td>1.000000</td>\n",
       "    </tr>\n",
       "  </tbody>\n",
       "</table>\n",
       "</div>"
      ],
      "text/plain": [
       "                 id          age  avg_glucose_level          bmi       stroke\n",
       "count   4088.000000  4088.000000        4088.000000  3918.000000  4088.000000\n",
       "mean   36547.666585    43.353288         106.317167    28.922180     0.048679\n",
       "std    21238.482961    22.596816          45.259652     7.928378     0.215223\n",
       "min       77.000000     0.080000          55.120000    10.300000     0.000000\n",
       "25%    17621.500000    26.000000          77.312500    23.600000     0.000000\n",
       "50%    36963.500000    45.000000          91.945000    28.000000     0.000000\n",
       "75%    54787.750000    61.000000         114.197500    33.100000     0.000000\n",
       "max    72940.000000    82.000000         271.740000    97.600000     1.000000"
      ]
     },
     "execution_count": 19,
     "metadata": {},
     "output_type": "execute_result"
    }
   ],
   "source": [
    "stroke.describe()"
   ]
  },
  {
   "cell_type": "markdown",
   "metadata": {},
   "source": [
    "## UnderSampling of majority class"
   ]
  },
  {
   "cell_type": "code",
   "execution_count": 20,
   "metadata": {},
   "outputs": [],
   "source": [
    "df_0 = strat_train[strat_train['stroke']==0]\n",
    "df_1 = strat_train[strat_train['stroke']==1]"
   ]
  },
  {
   "cell_type": "code",
   "execution_count": 21,
   "metadata": {},
   "outputs": [],
   "source": [
    "df_0 = df_0.sample(1250 , random_state=42)"
   ]
  },
  {
   "cell_type": "code",
   "execution_count": 22,
   "metadata": {},
   "outputs": [],
   "source": [
    "strat_train = pd.concat([df_0,df_1] , axis=0)"
   ]
  },
  {
   "cell_type": "code",
   "execution_count": 23,
   "metadata": {},
   "outputs": [],
   "source": [
    "strat_train.reset_index(inplace=True)"
   ]
  },
  {
   "cell_type": "code",
   "execution_count": 24,
   "metadata": {},
   "outputs": [],
   "source": [
    "strat_train.drop('index',axis=1,inplace=True)"
   ]
  },
  {
   "cell_type": "markdown",
   "metadata": {
    "id": "66e62460"
   },
   "source": [
    "# Pipeline to perform Encoding, Imputing & Scaling"
   ]
  },
  {
   "cell_type": "code",
   "execution_count": 25,
   "metadata": {
    "id": "ed9cff6d"
   },
   "outputs": [],
   "source": [
    "X_train = strat_train.drop(\"stroke\", axis=1)\n",
    "y_train = strat_train[\"stroke\"].copy()\n",
    "\n",
    "X_test = strat_test.drop('stroke', axis=1)\n",
    "y_test = strat_test['stroke'].copy()"
   ]
  },
  {
   "cell_type": "code",
   "execution_count": 26,
   "metadata": {
    "id": "uFdFFhcN2D01"
   },
   "outputs": [],
   "source": [
    "num_attr = ['id', 'age', 'avg_glucose_level', 'bmi']\n",
    "cat_attr = ['gender', 'hypertension', 'heart_disease', 'ever_married', 'work_type', 'Residence_type', 'smoking_status']"
   ]
  },
  {
   "cell_type": "code",
   "execution_count": 27,
   "metadata": {
    "id": "6853d541"
   },
   "outputs": [],
   "source": [
    "from sklearn.preprocessing import OneHotEncoder\n",
    "from sklearn.impute import SimpleImputer\n",
    "from sklearn.preprocessing import StandardScaler\n",
    "from sklearn.pipeline import Pipeline"
   ]
  },
  {
   "cell_type": "code",
   "execution_count": 28,
   "metadata": {
    "id": "x9N4hHDW2D02",
    "outputId": "24fe7f38-d0af-4f6c-c467-3af408238d8b"
   },
   "outputs": [
    {
     "name": "stdout",
     "output_type": "stream",
     "text": [
      "['x0_Female', 'x0_Male', 'x0_Other', 'x1_0', 'x1_1', 'x2_0', 'x2_1', 'x3_No', 'x3_Yes', 'x4_Govt_job', 'x4_Never_worked', 'x4_Private', 'x4_Self-employed', 'x4_children', 'x5_Rural', 'x5_Urban', 'x6_Unknown', 'x6_formerly smoked', 'x6_never smoked', 'x6_smokes']\n"
     ]
    }
   ],
   "source": [
    "from sklearn.base import BaseEstimator, TransformerMixin \n",
    "cat_col_names = []\n",
    "class  extractCatCol(BaseEstimator,TransformerMixin):\n",
    "    def __init__(self):\n",
    "        self.cat_enc = OneHotEncoder()\n",
    "        return None\n",
    "    def fit(self,X,y=None):\n",
    "        self.cat_enc.fit(X[cat_attr])\n",
    "        return self\n",
    "    def transform(self,X):\n",
    "        global cat_col_names\n",
    "        cat_col_names =  list(self.cat_enc.get_feature_names())\n",
    "        return self.cat_enc.transform(X[cat_attr])\n",
    "cat_obj = extractCatCol()\n",
    "cat_obj.fit_transform(X_train)\n",
    "print(cat_col_names)\n"
   ]
  },
  {
   "cell_type": "code",
   "execution_count": 29,
   "metadata": {
    "id": "f870debd"
   },
   "outputs": [],
   "source": [
    "num_pipeline = Pipeline([\n",
    "    ('imputer', SimpleImputer(strategy='median')), \n",
    "    ('std_scaler', StandardScaler())\n",
    "])\n",
    "\n",
    "\n",
    "from sklearn.compose import ColumnTransformer\n",
    "\n",
    "full_pipeline = ColumnTransformer([\n",
    "    (\"num\", num_pipeline, num_attr),\n",
    "    ('names',extractCatCol(),cat_attr)\n",
    "])"
   ]
  },
  {
   "cell_type": "code",
   "execution_count": 30,
   "metadata": {
    "id": "5cc2504f",
    "outputId": "96ae08a9-14ef-4587-88b9-1932e664f261"
   },
   "outputs": [
    {
     "name": "stdout",
     "output_type": "stream",
     "text": [
      "['x0_Female', 'x0_Male', 'x0_Other', 'x1_0', 'x1_1', 'x2_0', 'x2_1', 'x3_No', 'x3_Yes', 'x4_Govt_job', 'x4_Never_worked', 'x4_Private', 'x4_Self-employed', 'x4_children', 'x5_Rural', 'x5_Urban', 'x6_Unknown', 'x6_formerly smoked', 'x6_never smoked', 'x6_smokes']\n"
     ]
    }
   ],
   "source": [
    "X_train_prepared = full_pipeline.fit_transform(X_train)\n",
    "X_test_prepared = full_pipeline.transform(X_test)\n",
    "print(cat_col_names)"
   ]
  },
  {
   "cell_type": "markdown",
   "metadata": {},
   "source": [
    "Sample row after transformation"
   ]
  },
  {
   "cell_type": "code",
   "execution_count": 31,
   "metadata": {
    "id": "weidvMnU2D03",
    "outputId": "d80c5880-cdd2-49f2-e6ad-c06f7d1d75ed"
   },
   "outputs": [
    {
     "name": "stdout",
     "output_type": "stream",
     "text": [
      "id                   : -0.5930794441537198  \n",
      "age                  : 0.7526796213834799   \n",
      "avg_glucose_level    : -0.6392413139421999  \n",
      "bmi                  : 0.7156240602297267   \n",
      "x0_Female            : 0.0                  \n",
      "x0_Male              : 1.0                  \n",
      "x0_Other             : 0.0                  \n",
      "x1_0                 : 1.0                  \n",
      "x1_1                 : 0.0                  \n",
      "x2_0                 : 1.0                  \n",
      "x2_1                 : 0.0                  \n",
      "x3_No                : 0.0                  \n",
      "x3_Yes               : 1.0                  \n",
      "x4_Govt_job          : 0.0                  \n",
      "x4_Never_worked      : 0.0                  \n",
      "x4_Private           : 1.0                  \n",
      "x4_Self-employed     : 0.0                  \n",
      "x4_children          : 0.0                  \n",
      "x5_Rural             : 1.0                  \n",
      "x5_Urban             : 0.0                  \n",
      "x6_Unknown           : 0.0                  \n",
      "x6_formerly smoked   : 0.0                  \n",
      "x6_never smoked      : 1.0                  \n",
      "x6_smokes            : 0.0                  \n"
     ]
    }
   ],
   "source": [
    "total_cols = num_attr+cat_col_names\n",
    "for i in range(len(total_cols)):\n",
    "    print (\"{:<20} : {:<20} \".format(total_cols[i],X_test_prepared[0][i]))"
   ]
  },
  {
   "cell_type": "markdown",
   "metadata": {
    "id": "3e99107e"
   },
   "source": [
    "# Feature selection"
   ]
  },
  {
   "cell_type": "markdown",
   "metadata": {
    "id": "bf7d74d7"
   },
   "source": [
    "## Tree based Feature Selection"
   ]
  },
  {
   "cell_type": "code",
   "execution_count": 32,
   "metadata": {
    "id": "91bdbf9a"
   },
   "outputs": [],
   "source": [
    "from sklearn.ensemble import RandomForestClassifier\n",
    "\n",
    "# Initialize the Random Forest Classifier\n",
    "RandForest_Tree = RandomForestClassifier()  \n",
    "# Fit the random forest with the original data\n",
    "RandForest_Tree = RandForest_Tree.fit(X_train_prepared, y_train)\n",
    "# Getting the relevance between features\n",
    "relevants = RandForest_Tree.feature_importances_"
   ]
  },
  {
   "cell_type": "code",
   "execution_count": 33,
   "metadata": {
    "id": "5b1d1453"
   },
   "outputs": [],
   "source": [
    "# Apply the tree based on importance for the random forest classifier and indexing it\n",
    "std = np.std([tree.feature_importances_ for tree in RandForest_Tree.estimators_], axis=0)\n",
    "indices = np.argsort(relevants)[::-1]"
   ]
  },
  {
   "cell_type": "code",
   "execution_count": 34,
   "metadata": {
    "id": "f612fa80",
    "outputId": "71b4ec7c-aa13-4146-9bb5-7e0ddae2b113"
   },
   "outputs": [
    {
     "name": "stdout",
     "output_type": "stream",
     "text": [
      "Feature Rank:\n",
      " 1. Feature id (0.229325)\n",
      " 2. Feature age (0.172320)\n",
      " 3. Feature avg_glucose_level (0.159671)\n",
      " 4. Feature bmi (0.147564)\n",
      " 5. Feature x0_Female (0.019750)\n",
      " 6. Feature x0_Male (0.019708)\n",
      " 7. Feature x0_Other (0.018853)\n",
      " 8. Feature x1_0 (0.018467)\n",
      " 9. Feature x1_1 (0.018393)\n",
      "10. Feature x2_0 (0.018344)\n",
      "11. Feature x2_1 (0.018210)\n",
      "12. Feature x3_No (0.018022)\n",
      "13. Feature x3_Yes (0.017839)\n",
      "14. Feature x4_Govt_job (0.017473)\n",
      "15. Feature x4_Never_worked (0.016678)\n",
      "16. Feature x4_Private (0.016468)\n",
      "17. Feature x4_Self-employed (0.015350)\n",
      "18. Feature x4_children (0.015212)\n",
      "19. Feature x5_Rural (0.013622)\n",
      "20. Feature x5_Urban (0.013298)\n",
      "21. Feature x6_Unknown (0.013135)\n",
      "22. Feature x6_formerly smoked (0.002247)\n",
      "23. Feature x6_never smoked (0.000045)\n",
      "24. Feature x6_smokes (0.000006)\n"
     ]
    }
   ],
   "source": [
    "# Printting the ranking of importance\n",
    "print(\"Feature Rank:\")\n",
    "\n",
    "for i in range(X_train_prepared.shape[1]):\n",
    "    print(\"%2d. Feature %s (%f)\" \n",
    "          % (i + 1, total_cols[i], relevants[indices[i]]))"
   ]
  },
  {
   "cell_type": "code",
   "execution_count": 35,
   "metadata": {
    "id": "be1918aa",
    "outputId": "88492ca9-5e00-4f6d-c8f7-60c158f708cb"
   },
   "outputs": [
    {
     "name": "stdout",
     "output_type": "stream",
     "text": [
      "Feature:  0, Score: 0.15022\n",
      "Feature:  1, Score: 0.26786\n",
      "Feature:  2, Score: 0.21473\n",
      "Feature:  3, Score: 0.17774\n",
      "Feature:  4, Score: 0.00463\n",
      "Feature:  5, Score: 0.02027\n",
      "Feature:  6, Score: 0.00000\n",
      "Feature:  7, Score: 0.01445\n",
      "Feature:  8, Score: 0.01111\n",
      "Feature:  9, Score: 0.01012\n",
      "Feature: 10, Score: 0.01692\n",
      "Feature: 11, Score: 0.02022\n",
      "Feature: 12, Score: 0.00680\n",
      "Feature: 13, Score: 0.00912\n",
      "Feature: 14, Score: 0.00000\n",
      "Feature: 15, Score: 0.00291\n",
      "Feature: 16, Score: 0.01150\n",
      "Feature: 17, Score: 0.00000\n",
      "Feature: 18, Score: 0.00000\n",
      "Feature: 19, Score: 0.01505\n",
      "Feature: 20, Score: 0.00596\n",
      "Feature: 21, Score: 0.00774\n",
      "Feature: 22, Score: 0.01914\n",
      "Feature: 23, Score: 0.01352\n"
     ]
    }
   ],
   "source": [
    "from sklearn.tree import DecisionTreeClassifier\n",
    "dt_model = DecisionTreeClassifier()\n",
    "dt_model.fit(X_train_prepared, y_train)\n",
    "# get importance\n",
    "importance = dt_model.feature_importances_\n",
    "# summarize feature importance\n",
    "for i,v in enumerate(importance):\n",
    "    print('Feature: %2d, Score: %.5f' % (i,v))"
   ]
  },
  {
   "cell_type": "code",
   "execution_count": 36,
   "metadata": {
    "id": "03e8f8ef",
    "outputId": "e9591191-dddf-4971-dc37-20c6cadea0c0",
    "scrolled": true
   },
   "outputs": [
    {
     "data": {
      "image/png": "[encoded data removed]",
      "text/plain": [
       "<Figure size 432x288 with 1 Axes>"
      ]
     },
     "metadata": {
      "needs_background": "light"
     },
     "output_type": "display_data"
    }
   ],
   "source": [
    "# plot feature importance\n",
    "plt.bar([x for x in range(len(importance))], importance)\n",
    "plt.show()"
   ]
  },
  {
   "cell_type": "markdown",
   "metadata": {},
   "source": [
    "# Feature extraction"
   ]
  },
  {
   "cell_type": "markdown",
   "metadata": {},
   "source": [
    "# Principal component analysis"
   ]
  },
  {
   "cell_type": "code",
   "execution_count": 37,
   "metadata": {},
   "outputs": [
    {
     "data": {
      "text/plain": [
       "PCA()"
      ]
     },
     "execution_count": 37,
     "metadata": {},
     "output_type": "execute_result"
    }
   ],
   "source": [
    "\n",
    "from sklearn.decomposition import PCA\n",
    "pca = PCA()\n",
    "pca.fit(X_train_prepared)"
   ]
  },
  {
   "cell_type": "code",
   "execution_count": 38,
   "metadata": {},
   "outputs": [
    {
     "data": {
      "text/plain": [
       "Text(0, 0.5, 'Variance Ratio')"
      ]
     },
     "execution_count": 38,
     "metadata": {},
     "output_type": "execute_result"
    },
    {
     "data": {
      "image/png": "[encoded data removed]",
      "text/plain": [
       "<Figure size 648x576 with 1 Axes>"
      ]
     },
     "metadata": {
      "needs_background": "light"
     },
     "output_type": "display_data"
    }
   ],
   "source": [
    "# Plotting to visualize the best number of elements\n",
    "plt.figure(1, figsize=(9, 8))\n",
    "plt.clf()\n",
    "plt.axes([.2, .2, .7, .7])\n",
    "plt.plot(pca.explained_variance_ratio_, linewidth=2)\n",
    "plt.axis('tight')\n",
    "plt.xlabel('Number of Feautres')\n",
    "plt.ylabel('Variance Ratio')"
   ]
  },
  {
   "cell_type": "markdown",
   "metadata": {},
   "source": [
    "## New X_train (removing features with <0.05% relevance)"
   ]
  },
  {
   "cell_type": "code",
   "execution_count": 39,
   "metadata": {},
   "outputs": [],
   "source": [
    "unselected_ind = []\n",
    "for i,v in enumerate(relevants):\n",
    "    if(v < 0.0005):\n",
    "        unselected_ind.append(i)\n",
    "        "
   ]
  },
  {
   "cell_type": "code",
   "execution_count": 40,
   "metadata": {
    "scrolled": true
   },
   "outputs": [
    {
     "data": {
      "text/plain": [
       "[6, 14]"
      ]
     },
     "execution_count": 40,
     "metadata": {},
     "output_type": "execute_result"
    }
   ],
   "source": [
    "unselected_ind"
   ]
  },
  {
   "cell_type": "code",
   "execution_count": 41,
   "metadata": {},
   "outputs": [],
   "source": [
    "X_train_new = np.delete(X_train_prepared, unselected_ind, axis=1)\n",
    "X_test_new = np.delete(X_test_prepared, unselected_ind, axis=1)"
   ]
  },
  {
   "cell_type": "markdown",
   "metadata": {
    "id": "dxKA3CfB2D07"
   },
   "source": [
    "# Model Fitting"
   ]
  },
  {
   "cell_type": "code",
   "execution_count": 42,
   "metadata": {
    "id": "l2a24fx12D07"
   },
   "outputs": [],
   "source": [
    "from sklearn.model_selection import cross_val_score\n",
    "from sklearn.model_selection import cross_val_predict\n",
    "from sklearn.metrics import make_scorer, accuracy_score, precision_score, recall_score, f1_score\n",
    "from sklearn.metrics import confusion_matrix\n",
    "from sklearn.model_selection import train_test_split\n",
    "from sklearn.metrics import roc_auc_score\n",
    "\n",
    "train_perfomance ={}\n",
    "val_perfomance ={}\n",
    "\n",
    "def display_scores(y, y_pred,model=None,is_train=None):\n",
    "    #sns.heatmap(confusion_matrix(y, y_pred), annot=True)\n",
    "    #plt.show()\n",
    "    print(\"precision_score :\", precision_score(y, y_pred))\n",
    "    print(\"recall_score :\", recall_score(y, y_pred))\n",
    "    print(\"f1_score :\", f1_score(y, y_pred))\n",
    "    print(\"roc_auc_score :\", roc_auc_score(y, y_pred))\n",
    "    if(is_train):\n",
    "        train_perfomance[model]=[f1_score(y,y_pred),roc_auc_score(y, y_pred)]\n",
    "    else:\n",
    "        val_perfomance[model]=[f1_score(y,y_pred),roc_auc_score(y, y_pred)]"
   ]
  },
  {
   "cell_type": "code",
   "execution_count": 43,
   "metadata": {
    "id": "JT0gRsNW2D07"
   },
   "outputs": [],
   "source": [
    "from sklearn.metrics import precision_recall_curve\n",
    "\n",
    "def plot_precision_recall_vs_threshold(precisions, recalls, thresholds):\n",
    "    plt.plot(thresholds, precisions[:-1], 'b--', label='Precision')\n",
    "    plt.plot(thresholds, recalls[:-1], 'g-', label='Recall')\n",
    "    plt.legend()"
   ]
  },
  {
   "cell_type": "code",
   "execution_count": 44,
   "metadata": {
    "id": "oAK2Gcnd2D08"
   },
   "outputs": [],
   "source": [
    "def plot_learning_curves(model, X, y):\n",
    "    X_train, X_val, y_train, y_val = train_test_split(X, y, random_state = 42, test_size = 0.2)\n",
    "#     print(y_train[:50].sum())\n",
    "#     print(y_train[:50].shape)\n",
    "    train_errors, val_errors = [], []\n",
    "    for m in range(250, len(X_train), 100):\n",
    "        model.fit(X_train[:m], y_train[:m])\n",
    "        y_train_predict = model.predict(X_train[:m])\n",
    "        y_val_predict = model.predict(X_val)\n",
    "        train_errors.append(roc_auc_score(y_train[:m], y_train_predict))\n",
    "        val_errors.append(roc_auc_score(y_val, y_val_predict))\n",
    "    xi = list(range(len(X_train)))\n",
    "    plt.plot(train_errors, 'r-+', linewidth = 1, label='train')\n",
    "    plt.plot(val_errors, 'b-', linewidth = 2, label='Val')\n",
    "    #plt.xticks(xi, X_train)\n",
    "    plt.legend(loc=\"upper right\", fontsize=14)   \n",
    "    plt.xlabel(\"Training set size\", fontsize=14) \n",
    "    plt.ylabel(\"ROC AUC Score\", fontsize=14)"
   ]
  },
  {
   "cell_type": "code",
   "execution_count": 45,
   "metadata": {
    "id": "GEjJBmJN2D08"
   },
   "outputs": [],
   "source": [
    "from sklearn.metrics import roc_curve\n",
    "\n",
    "def plot_roc_curve(fpr, tpr, label=None):\n",
    "    plt.plot(fpr, tpr, linewidth=2)\n",
    "    plt.plot([0, 1], [0, 1], 'k--')\n",
    "    plt.axis([0, 1, 0, 1])                                    \n",
    "    plt.xlabel('False Positive Rate (Fall-Out)', fontsize=16) \n",
    "    plt.ylabel('True Positive Rate (Recall)', fontsize=16)    \n",
    "    plt.grid(True)"
   ]
  },
  {
   "cell_type": "markdown",
   "metadata": {
    "id": "owgEaLYx2D08"
   },
   "source": [
    "## LogisticRegression"
   ]
  },
  {
   "cell_type": "code",
   "execution_count": 46,
   "metadata": {
    "id": "OLke6dFu2D08",
    "outputId": "6245e137-aefe-4693-eaf4-0f4f7bc936e0"
   },
   "outputs": [
    {
     "data": {
      "text/plain": [
       "LogisticRegression(random_state=42)"
      ]
     },
     "execution_count": 46,
     "metadata": {},
     "output_type": "execute_result"
    }
   ],
   "source": [
    "from sklearn.linear_model import LogisticRegression\n",
    "\n",
    "log_reg = LogisticRegression(random_state=42)\n",
    "log_reg.fit(X_train_new, y_train)"
   ]
  },
  {
   "cell_type": "code",
   "execution_count": 47,
   "metadata": {
    "id": "W0yyoIBg2D09",
    "outputId": "3d4e694e-e909-4bb8-e1c0-62d0380253b0"
   },
   "outputs": [
    {
     "name": "stdout",
     "output_type": "stream",
     "text": [
      "precision_score : 0.48936170212765956\n",
      "recall_score : 0.11557788944723618\n",
      "f1_score : 0.18699186991869918\n",
      "roc_auc_score : 0.548188944723618\n"
     ]
    }
   ],
   "source": [
    "#Prediction in Train set\n",
    "y_log_pred = log_reg.predict(X_train_new)\n",
    "\n",
    "display_scores(y_train, y_log_pred,'Logistic',True)"
   ]
  },
  {
   "cell_type": "code",
   "execution_count": 48,
   "metadata": {
    "id": "dM3bC6Jo2D09",
    "outputId": "ee147ea1-49df-4b0c-b321-1a565ad4ca4b"
   },
   "outputs": [
    {
     "name": "stdout",
     "output_type": "stream",
     "text": [
      "precision_score : 0.44\n",
      "recall_score : 0.11055276381909548\n",
      "f1_score : 0.17670682730923698\n",
      "roc_auc_score : 0.5440763819095478\n"
     ]
    }
   ],
   "source": [
    "#Prediction in Cross-val set\n",
    "y_val_log_pred = cross_val_predict(log_reg, X_train_prepared, y_train, cv=3)\n",
    "display_scores(y_train, y_val_log_pred,'Logistic',False)"
   ]
  },
  {
   "cell_type": "code",
   "execution_count": 49,
   "metadata": {
    "id": "xGO4DLsO2D09",
    "outputId": "f6f47819-7e18-4d81-a5a2-b187a9aa0f82"
   },
   "outputs": [
    {
     "data": {
      "image/png": "[encoded data removed]",
      "text/plain": [
       "<Figure size 432x288 with 1 Axes>"
      ]
     },
     "metadata": {
      "needs_background": "light"
     },
     "output_type": "display_data"
    }
   ],
   "source": [
    "precisions, recalls, thresholds = precision_recall_curve(y_train, y_val_log_pred)\n",
    "plot_precision_recall_vs_threshold(precisions, recalls, thresholds)"
   ]
  },
  {
   "cell_type": "code",
   "execution_count": 50,
   "metadata": {
    "id": "g_vFaD1r2D0-",
    "outputId": "c32dbfbd-98d9-4229-f94f-0b8d69aa99ae"
   },
   "outputs": [
    {
     "data": {
      "text/plain": [
       "[<matplotlib.lines.Line2D at 0x15ebbfe1bb0>]"
      ]
     },
     "execution_count": 50,
     "metadata": {},
     "output_type": "execute_result"
    },
    {
     "data": {
      "image/png": "[encoded data removed]",
      "text/plain": [
       "<Figure size 432x288 with 1 Axes>"
      ]
     },
     "metadata": {
      "needs_background": "light"
     },
     "output_type": "display_data"
    }
   ],
   "source": [
    "plt.plot(recalls, precisions)"
   ]
  },
  {
   "cell_type": "markdown",
   "metadata": {},
   "source": [
    "Logistic Regression is severely underfitting for this data."
   ]
  },
  {
   "cell_type": "markdown",
   "metadata": {
    "id": "mrhAvPmd2D0-"
   },
   "source": [
    "## SVM with Polynomial Kernal"
   ]
  },
  {
   "cell_type": "code",
   "execution_count": 51,
   "metadata": {
    "id": "bpmbNZ_Y2D0-",
    "outputId": "3ec4a836-9483-4692-c8e7-c72593a87c02"
   },
   "outputs": [
    {
     "data": {
      "text/plain": [
       "SVC(C=3, coef0=1, degree=4, kernel='poly', random_state=42)"
      ]
     },
     "execution_count": 51,
     "metadata": {},
     "output_type": "execute_result"
    }
   ],
   "source": [
    "from sklearn.svm import SVC\n",
    "\n",
    "poly_kernal_svc = SVC(kernel='poly', degree=4, coef0=1, C=3,random_state=42)\n",
    "poly_kernal_svc.fit(X_train_new, y_train)"
   ]
  },
  {
   "cell_type": "code",
   "execution_count": 52,
   "metadata": {
    "id": "Vnxh43VT2D0_",
    "outputId": "7877d8aa-d1c5-4920-a227-6df15e3dec45"
   },
   "outputs": [
    {
     "name": "stdout",
     "output_type": "stream",
     "text": [
      "precision_score : 0.9568345323741008\n",
      "recall_score : 0.6683417085427136\n",
      "f1_score : 0.7869822485207102\n",
      "roc_auc_score : 0.8317708542713569\n"
     ]
    }
   ],
   "source": [
    "#Prediction in Train set\n",
    "y_poly_ker_svm_pred = poly_kernal_svc.predict(X_train_new)\n",
    "display_scores(y_train, y_poly_ker_svm_pred,'Poly_ker_SVM',True)"
   ]
  },
  {
   "cell_type": "code",
   "execution_count": 53,
   "metadata": {
    "id": "pgt_itjU2D0_",
    "outputId": "1e0d2003-7373-477a-b495-f64ab9b61016"
   },
   "outputs": [
    {
     "name": "stdout",
     "output_type": "stream",
     "text": [
      "precision_score : 0.2983425414364641\n",
      "recall_score : 0.271356783919598\n",
      "f1_score : 0.2842105263157895\n",
      "roc_auc_score : 0.584878391959799\n"
     ]
    }
   ],
   "source": [
    "#Prediction in Validation set\n",
    "y_poly_ker_svm_pred_val = cross_val_predict(poly_kernal_svc, X_train_new, y_train, cv=3)\n",
    "display_scores(y_train, y_poly_ker_svm_pred_val,'Poly_ker_SVM',False)"
   ]
  },
  {
   "cell_type": "code",
   "execution_count": 54,
   "metadata": {
    "id": "kP5wfKZB2D0_",
    "outputId": "0320a242-9361-4b1a-9526-1c7ef0dfab96"
   },
   "outputs": [
    {
     "data": {
      "image/png": "[encoded data removed]",
      "text/plain": [
       "<Figure size 432x288 with 1 Axes>"
      ]
     },
     "metadata": {
      "needs_background": "light"
     },
     "output_type": "display_data"
    }
   ],
   "source": [
    "plot_learning_curves(poly_kernal_svc, X_train_new, y_train)"
   ]
  },
  {
   "cell_type": "markdown",
   "metadata": {},
   "source": [
    "SVM with Polynomial Kernal is overfitting the data"
   ]
  },
  {
   "cell_type": "markdown",
   "metadata": {
    "id": "qsz7jlta2D1A"
   },
   "source": [
    "## SVM with Gaussian RBF Kernel"
   ]
  },
  {
   "cell_type": "code",
   "execution_count": 55,
   "metadata": {
    "id": "C2lPKOPW2D1A",
    "outputId": "e3111279-fba3-4a20-d29a-552b01b08339"
   },
   "outputs": [
    {
     "data": {
      "text/plain": [
       "SVC(C=16, gamma=0.12, random_state=42)"
      ]
     },
     "execution_count": 55,
     "metadata": {},
     "output_type": "execute_result"
    }
   ],
   "source": [
    "from sklearn.svm import SVC\n",
    "\n",
    "rbf_kernel_svc = SVC(kernel='rbf', gamma=0.12, C=16,random_state=42)\n",
    "rbf_kernel_svc.fit(X_train_prepared, y_train)"
   ]
  },
  {
   "cell_type": "code",
   "execution_count": 56,
   "metadata": {
    "id": "3-JSpGqS2D1B",
    "outputId": "1bd6b2dc-c6ca-438c-e366-62e22055c7cd"
   },
   "outputs": [
    {
     "name": "stdout",
     "output_type": "stream",
     "text": [
      "precision_score : 0.9621212121212122\n",
      "recall_score : 0.6381909547738693\n",
      "f1_score : 0.7673716012084593\n",
      "roc_auc_score : 0.8170954773869347\n"
     ]
    }
   ],
   "source": [
    "#Prediction in Train set\n",
    "y_rbf_pred = rbf_kernel_svc.predict(X_train_prepared)\n",
    "display_scores(y_train, y_rbf_pred,'rbf_kernel_svc',True)"
   ]
  },
  {
   "cell_type": "code",
   "execution_count": 57,
   "metadata": {
    "id": "rZ3KTONI2D1B",
    "outputId": "abc479d7-bb9f-4536-b49a-a3983ea0c2bf"
   },
   "outputs": [
    {
     "name": "stdout",
     "output_type": "stream",
     "text": [
      "precision_score : 0.40625\n",
      "recall_score : 0.2613065326633166\n",
      "f1_score : 0.3180428134556575\n",
      "roc_auc_score : 0.6002532663316583\n"
     ]
    }
   ],
   "source": [
    "# Prediction in Validation set\n",
    "y_rbf_pred_val = cross_val_predict(rbf_kernel_svc, X_train_new, y_train, cv=5)\n",
    "display_scores(y_train, y_rbf_pred_val,'rbf_kernel_svc',False)"
   ]
  },
  {
   "cell_type": "code",
   "execution_count": 58,
   "metadata": {
    "id": "4inpf4XF2D1B",
    "outputId": "220e1d89-fe65-47ba-c660-51f932a9308b"
   },
   "outputs": [
    {
     "data": {
      "image/png": "[encoded data removed]",
      "text/plain": [
       "<Figure size 432x288 with 1 Axes>"
      ]
     },
     "metadata": {
      "needs_background": "light"
     },
     "output_type": "display_data"
    }
   ],
   "source": [
    "fpr, tpr, thresholds = roc_curve(y_train, y_rbf_pred_val)\n",
    "plot_roc_curve(fpr, tpr)\n",
    "plt.show()"
   ]
  },
  {
   "cell_type": "code",
   "execution_count": 59,
   "metadata": {
    "id": "feLFy0sW2D1C",
    "outputId": "de273fd2-073e-45cb-9921-e5042367580f"
   },
   "outputs": [
    {
     "data": {
      "image/png": "[encoded data removed]",
      "text/plain": [
       "<Figure size 432x288 with 1 Axes>"
      ]
     },
     "metadata": {
      "needs_background": "light"
     },
     "output_type": "display_data"
    }
   ],
   "source": [
    "plot_learning_curves(rbf_kernel_svc, X_train_prepared, y_train)"
   ]
  },
  {
   "cell_type": "markdown",
   "metadata": {},
   "source": [
    "SVM with Gaussian RBF Kernel is underfitting the data"
   ]
  },
  {
   "cell_type": "markdown",
   "metadata": {
    "id": "rAF7_fMd2D1C"
   },
   "source": [
    "## Random Forest"
   ]
  },
  {
   "cell_type": "code",
   "execution_count": 60,
   "metadata": {
    "id": "YvHHdBMT2D1C"
   },
   "outputs": [],
   "source": [
    "from sklearn.ensemble import RandomForestClassifier"
   ]
  },
  {
   "cell_type": "code",
   "execution_count": 61,
   "metadata": {
    "id": "AZ7mRhYo2D1C",
    "outputId": "944f3aa7-4be7-480a-ec71-40d15e880a5f"
   },
   "outputs": [
    {
     "data": {
      "text/plain": [
       "RandomForestClassifier(max_depth=1, n_estimators=1, random_state=42)"
      ]
     },
     "execution_count": 61,
     "metadata": {},
     "output_type": "execute_result"
    }
   ],
   "source": [
    "rf_clf = RandomForestClassifier(random_state=42, max_depth=1, min_samples_leaf = 1, min_samples_split=2, n_estimators=1)\n",
    "rf_clf.fit(X_train_new, y_train)"
   ]
  },
  {
   "cell_type": "code",
   "execution_count": 62,
   "metadata": {
    "id": "uB_d-x-02D1D",
    "outputId": "16a0f9ee-4a02-4b4a-a074-33e1264adcdc"
   },
   "outputs": [
    {
     "name": "stdout",
     "output_type": "stream",
     "text": [
      "precision_score : 0.0\n",
      "recall_score : 0.0\n",
      "f1_score : 0.0\n",
      "roc_auc_score : 0.5\n"
     ]
    },
    {
     "name": "stderr",
     "output_type": "stream",
     "text": [
      "C:\\Users\\HP\\anaconda3\\lib\\site-packages\\sklearn\\metrics\\_classification.py:1248: UndefinedMetricWarning: Precision is ill-defined and being set to 0.0 due to no predicted samples. Use `zero_division` parameter to control this behavior.\n",
      "  _warn_prf(average, modifier, msg_start, len(result))\n"
     ]
    }
   ],
   "source": [
    "#Prediction in Train set\n",
    "y_rf_pred = rf_clf.predict(X_train_new)\n",
    "display_scores(y_train, y_rf_pred,'Random_Forest',True)"
   ]
  },
  {
   "cell_type": "code",
   "execution_count": 63,
   "metadata": {
    "id": "JkmsPru32D1D",
    "outputId": "bf151117-a10d-4ecb-d8e6-5e9daadd2c41"
   },
   "outputs": [
    {
     "name": "stdout",
     "output_type": "stream",
     "text": [
      "precision_score : 0.0\n",
      "recall_score : 0.0\n",
      "f1_score : 0.0\n",
      "roc_auc_score : 0.5\n"
     ]
    },
    {
     "name": "stderr",
     "output_type": "stream",
     "text": [
      "C:\\Users\\HP\\anaconda3\\lib\\site-packages\\sklearn\\metrics\\_classification.py:1248: UndefinedMetricWarning: Precision is ill-defined and being set to 0.0 due to no predicted samples. Use `zero_division` parameter to control this behavior.\n",
      "  _warn_prf(average, modifier, msg_start, len(result))\n"
     ]
    }
   ],
   "source": [
    "# Prediction in Validation set\n",
    "y_rf_pred_val = cross_val_predict(rf_clf, X_train_new, y_train, cv=5)\n",
    "display_scores(y_train, y_rf_pred_val,'Random_Forest',False)"
   ]
  },
  {
   "cell_type": "code",
   "execution_count": 64,
   "metadata": {
    "id": "5-SMrbN72D1D",
    "outputId": "9cd62a49-eacd-4bc6-bf8c-4a09c93b307c"
   },
   "outputs": [
    {
     "data": {
      "image/png": "[encoded data removed]",
      "text/plain": [
       "<Figure size 432x288 with 1 Axes>"
      ]
     },
     "metadata": {
      "needs_background": "light"
     },
     "output_type": "display_data"
    }
   ],
   "source": [
    "fpr, tpr, thresholds = roc_curve(y_train, y_rf_pred_val)\n",
    "plot_roc_curve(fpr, tpr)\n",
    "plt.show()"
   ]
  },
  {
   "cell_type": "code",
   "execution_count": 65,
   "metadata": {
    "id": "sM1mUzDY2D1E",
    "outputId": "cad0f1a8-5ae6-4a46-a2a3-2b7980e0a857"
   },
   "outputs": [
    {
     "data": {
      "image/png": "[encoded data removed]",
      "text/plain": [
       "<Figure size 432x288 with 1 Axes>"
      ]
     },
     "metadata": {
      "needs_background": "light"
     },
     "output_type": "display_data"
    }
   ],
   "source": [
    "plot_learning_curves(rf_clf, X_train_prepared, y_train)"
   ]
  },
  {
   "cell_type": "markdown",
   "metadata": {},
   "source": [
    "Random Forest does not predict even a single true positive. Hence the perfomance on both training and cross validation set is poor"
   ]
  },
  {
   "cell_type": "markdown",
   "metadata": {
    "id": "ed307e29"
   },
   "source": [
    "## GradientBoostingClassifier"
   ]
  },
  {
   "cell_type": "code",
   "execution_count": 66,
   "metadata": {
    "id": "6ba33230",
    "outputId": "01e0ddde-98e9-482d-dc15-d39b91104556"
   },
   "outputs": [
    {
     "data": {
      "text/plain": [
       "GradientBoostingClassifier(max_depth=27, min_samples_leaf=11,\n",
       "                           min_samples_split=700, random_state=42)"
      ]
     },
     "execution_count": 66,
     "metadata": {},
     "output_type": "execute_result"
    }
   ],
   "source": [
    "from sklearn.ensemble import GradientBoostingClassifier\n",
    "\n",
    "gb_clf = GradientBoostingClassifier(\n",
    "    max_depth= 27, \n",
    "    min_samples_leaf= 11,\n",
    "    min_samples_split= 700,\n",
    "    random_state=42)\n",
    "gb_clf.fit(X_train_new, y_train)"
   ]
  },
  {
   "cell_type": "code",
   "execution_count": 67,
   "metadata": {
    "id": "BwYLLZeG2D1F",
    "outputId": "8d4fb5d8-5add-4153-ec04-b1ece9f06bd6"
   },
   "outputs": [
    {
     "name": "stdout",
     "output_type": "stream",
     "text": [
      "precision_score : 0.9\n",
      "recall_score : 0.40703517587939697\n",
      "f1_score : 0.5605536332179931\n",
      "roc_auc_score : 0.6999175879396984\n"
     ]
    }
   ],
   "source": [
    "#Prediction in Train set\n",
    "y_gb_pred = gb_clf.predict(X_train_new)\n",
    "display_scores(y_train, y_gb_pred,'Gradient Boosting',True)"
   ]
  },
  {
   "cell_type": "code",
   "execution_count": 68,
   "metadata": {
    "id": "wnOdLEw62D1F",
    "outputId": "798d4d33-5901-4e4f-972e-e8b48a693192"
   },
   "outputs": [
    {
     "name": "stdout",
     "output_type": "stream",
     "text": [
      "precision_score : 0.423728813559322\n",
      "recall_score : 0.12562814070351758\n",
      "f1_score : 0.19379844961240308\n",
      "roc_auc_score : 0.5492140703517587\n"
     ]
    }
   ],
   "source": [
    "# Prediction in Validation set\n",
    "y_gb_pred_val = cross_val_predict(gb_clf, X_train_new, y_train, cv=5)\n",
    "display_scores(y_train, y_gb_pred_val,'Gradient Boosting',False)"
   ]
  },
  {
   "cell_type": "code",
   "execution_count": 69,
   "metadata": {
    "id": "KJd-lAox2D1F",
    "outputId": "933be2a2-cf5c-4152-e3c7-21d86d13b681"
   },
   "outputs": [
    {
     "data": {
      "image/png": "[encoded data removed]",
      "text/plain": [
       "<Figure size 432x288 with 1 Axes>"
      ]
     },
     "metadata": {
      "needs_background": "light"
     },
     "output_type": "display_data"
    }
   ],
   "source": [
    "fpr, tpr, thresholds = roc_curve(y_train, y_gb_pred_val)\n",
    "plot_roc_curve(fpr, tpr)\n",
    "plt.show()"
   ]
  },
  {
   "cell_type": "code",
   "execution_count": 70,
   "metadata": {
    "id": "QauZdL7o2D1F",
    "outputId": "48453576-0726-4422-91ee-b47a8a4d6e26"
   },
   "outputs": [
    {
     "data": {
      "image/png": "[encoded data removed]",
      "text/plain": [
       "<Figure size 432x288 with 1 Axes>"
      ]
     },
     "metadata": {
      "needs_background": "light"
     },
     "output_type": "display_data"
    }
   ],
   "source": [
    "plot_learning_curves(gb_clf, X_train_new, y_train)"
   ]
  },
  {
   "cell_type": "markdown",
   "metadata": {},
   "source": [
    "Although Gradient Boosting is overfitting the data, it does not give a good perfomance in training set"
   ]
  },
  {
   "cell_type": "markdown",
   "metadata": {
    "id": "9b4b1206"
   },
   "source": [
    "## BalancedBaggingClassifier"
   ]
  },
  {
   "cell_type": "code",
   "execution_count": 71,
   "metadata": {
    "id": "24610316",
    "outputId": "8b369a54-7d1f-422a-a715-6fa00c5d8706"
   },
   "outputs": [
    {
     "data": {
      "text/plain": [
       "BalancedBaggingClassifier(max_samples=0.6, n_estimators=64, random_state=42)"
      ]
     },
     "execution_count": 71,
     "metadata": {},
     "output_type": "execute_result"
    }
   ],
   "source": [
    "from imblearn.ensemble import BalancedBaggingClassifier\n",
    "bb_clf = BalancedBaggingClassifier(\n",
    "    max_samples= 0.6, \n",
    "    n_estimators= 64,\n",
    "    random_state=42)\n",
    "bb_clf.fit(X_train_new, y_train)"
   ]
  },
  {
   "cell_type": "code",
   "execution_count": 72,
   "metadata": {
    "id": "CSWS_Ewl2D1H",
    "outputId": "e639dc60-3036-444f-8ed0-cf8fac9ca5ee"
   },
   "outputs": [
    {
     "name": "stdout",
     "output_type": "stream",
     "text": [
      "precision_score : 0.4136460554371002\n",
      "recall_score : 0.9748743718592965\n",
      "f1_score : 0.5808383233532933\n",
      "roc_auc_score : 0.8774371859296483\n"
     ]
    }
   ],
   "source": [
    "#Prediction in Train set\n",
    "y_bb_pred = bb_clf.predict(X_train_new)\n",
    "display_scores(y_train, y_bb_pred,'Balanced_Bagging',True)"
   ]
  },
  {
   "cell_type": "code",
   "execution_count": 73,
   "metadata": {
    "id": "3wPCzSpB2D1H",
    "outputId": "51c1df01-5a6f-42f3-abb9-6bf4695c34c8"
   },
   "outputs": [
    {
     "name": "stdout",
     "output_type": "stream",
     "text": [
      "precision_score : 0.3258655804480652\n",
      "recall_score : 0.8040201005025126\n",
      "f1_score : 0.46376811594202905\n",
      "roc_auc_score : 0.7696100502512563\n"
     ]
    }
   ],
   "source": [
    "# Prediction in Validation set\n",
    "y_bb_pred_val = cross_val_predict(bb_clf, X_train_new, y_train, cv=5)\n",
    "display_scores(y_train, y_bb_pred_val,'Balanced_Bagging',False)"
   ]
  },
  {
   "cell_type": "code",
   "execution_count": 74,
   "metadata": {
    "id": "V-2nQIUz2D1I",
    "outputId": "d49813c1-4e78-43bf-a3b6-bc0a07739e59"
   },
   "outputs": [
    {
     "data": {
      "image/png": "[encoded data removed]",
      "text/plain": [
       "<Figure size 432x288 with 1 Axes>"
      ]
     },
     "metadata": {
      "needs_background": "light"
     },
     "output_type": "display_data"
    }
   ],
   "source": [
    "fpr, tpr, thresholds = roc_curve(y_train, y_bb_pred_val)\n",
    "plot_roc_curve(fpr, tpr)\n",
    "plt.show()"
   ]
  },
  {
   "cell_type": "code",
   "execution_count": 75,
   "metadata": {
    "id": "2uFya7Bf2D1I",
    "outputId": "6703ae2a-610d-43cb-bb90-07eac318ea31"
   },
   "outputs": [
    {
     "data": {
      "image/png": "[encoded data removed]",
      "text/plain": [
       "<Figure size 432x288 with 1 Axes>"
      ]
     },
     "metadata": {
      "needs_background": "light"
     },
     "output_type": "display_data"
    }
   ],
   "source": [
    "plot_learning_curves(bb_clf, X_train_new, y_train)"
   ]
  },
  {
   "cell_type": "markdown",
   "metadata": {},
   "source": [
    "Balanced Bagging Classifier does well on training set and generalizes better than other algorithms."
   ]
  },
  {
   "cell_type": "code",
   "execution_count": 76,
   "metadata": {},
   "outputs": [],
   "source": [
    "# from sklearn.model_selection import GridSearchCV\n",
    "# param_grid = [{\n",
    "#     'n_estimators' : range(30,100)\n",
    "#     'max_samples' : [0.4,0.5,0.6,0.7,0.8,0.9]\n",
    "# }]"
   ]
  },
  {
   "cell_type": "code",
   "execution_count": 77,
   "metadata": {},
   "outputs": [],
   "source": [
    "# grid_search = GridSearchCV(bb_clf, param_grid, cv=5, scoring='f1', return_train_score = True,verbose=3)"
   ]
  },
  {
   "cell_type": "code",
   "execution_count": 78,
   "metadata": {
    "tags": []
   },
   "outputs": [],
   "source": [
    "# grid_search.fit(X_train_prepared, y_train)"
   ]
  },
  {
   "cell_type": "code",
   "execution_count": 79,
   "metadata": {},
   "outputs": [],
   "source": [
    "# grid_search.best_params_"
   ]
  },
  {
   "cell_type": "code",
   "execution_count": null,
   "metadata": {},
   "outputs": [],
   "source": []
  },
  {
   "cell_type": "markdown",
   "metadata": {
    "id": "1e748a44"
   },
   "source": [
    "## Random Forest With Class Weighting"
   ]
  },
  {
   "cell_type": "code",
   "execution_count": 80,
   "metadata": {
    "id": "b23fa4dd",
    "outputId": "b331f93c-dba3-48ca-da25-0d9b9d769a38"
   },
   "outputs": [
    {
     "data": {
      "text/plain": [
       "RandomForestClassifier(class_weight='balanced', max_depth=9, min_samples_leaf=5,\n",
       "                       n_estimators=14, random_state=42)"
      ]
     },
     "execution_count": 80,
     "metadata": {},
     "output_type": "execute_result"
    }
   ],
   "source": [
    "from sklearn.ensemble import RandomForestClassifier\n",
    "rfw_clf = RandomForestClassifier(\n",
    "    max_depth= 9,\n",
    " min_samples_leaf= 5,\n",
    " min_samples_split= 2,\n",
    " n_estimators= 14, \n",
    " class_weight='balanced',random_state=42)\n",
    "rfw_clf.fit(X_train_new, y_train)"
   ]
  },
  {
   "cell_type": "code",
   "execution_count": 81,
   "metadata": {
    "id": "mvAaXHKL2D1J",
    "outputId": "c95bbe81-750d-46e9-b57e-e98a85f0cea2"
   },
   "outputs": [
    {
     "name": "stdout",
     "output_type": "stream",
     "text": [
      "precision_score : 0.4931506849315068\n",
      "recall_score : 0.9045226130653267\n",
      "f1_score : 0.6382978723404255\n",
      "roc_auc_score : 0.8782613065326632\n"
     ]
    }
   ],
   "source": [
    "#Prediction in Train set\n",
    "y_rfw_pred = rfw_clf.predict(X_train_new)\n",
    "display_scores(y_train, y_rfw_pred,'Weighted_Random_Forest',True)"
   ]
  },
  {
   "cell_type": "code",
   "execution_count": 82,
   "metadata": {
    "id": "zxCkjz_l2D1K",
    "outputId": "c76861d8-4769-4c96-c3ad-f1e924691839"
   },
   "outputs": [
    {
     "name": "stdout",
     "output_type": "stream",
     "text": [
      "precision_score : 0.323943661971831\n",
      "recall_score : 0.5778894472361809\n",
      "f1_score : 0.4151624548736462\n",
      "roc_auc_score : 0.6929447236180906\n"
     ]
    }
   ],
   "source": [
    "# Prediction in Validation set\n",
    "y_rfw_pred_val = cross_val_predict(rfw_clf, X_train_new, y_train, cv=5)\n",
    "display_scores(y_train, y_rfw_pred_val,'Weighted_Random_Forest',False)"
   ]
  },
  {
   "cell_type": "code",
   "execution_count": 83,
   "metadata": {
    "id": "9W9y30_H2D1K",
    "outputId": "684f5695-a3b9-45d1-9ebd-94e1b85671db"
   },
   "outputs": [
    {
     "data": {
      "image/png": "[encoded data removed]",
      "text/plain": [
       "<Figure size 432x288 with 1 Axes>"
      ]
     },
     "metadata": {
      "needs_background": "light"
     },
     "output_type": "display_data"
    }
   ],
   "source": [
    "fpr, tpr, thresholds = roc_curve(y_train, y_rfw_pred_val)\n",
    "plot_roc_curve(fpr, tpr)\n",
    "plt.show()"
   ]
  },
  {
   "cell_type": "code",
   "execution_count": 84,
   "metadata": {
    "id": "46e9588f",
    "outputId": "5cfa4340-d873-4f3d-929b-93f2ebb1aca1"
   },
   "outputs": [
    {
     "data": {
      "image/png": "[encoded data removed]",
      "text/plain": [
       "<Figure size 432x288 with 1 Axes>"
      ]
     },
     "metadata": {
      "needs_background": "light"
     },
     "output_type": "display_data"
    }
   ],
   "source": [
    "plot_learning_curves(rfw_clf, X_train_prepared, y_train)"
   ]
  },
  {
   "cell_type": "markdown",
   "metadata": {},
   "source": [
    "Although, Random Forest With Class Weighting performs better than Random Forest, it ovefits the data"
   ]
  },
  {
   "cell_type": "code",
   "execution_count": 85,
   "metadata": {},
   "outputs": [],
   "source": [
    "# from sklearn.model_selection import GridSearchCV\n",
    "# param_grid = [{\n",
    "#     'max_depth' : range(4,10),\n",
    "#     'min_samples_leaf': [4,5,6,7],\n",
    "#     'n_estimators' : range(5,15)\n",
    "# }]"
   ]
  },
  {
   "cell_type": "code",
   "execution_count": 86,
   "metadata": {},
   "outputs": [],
   "source": [
    "# grid_search = GridSearchCV(rfw_clf, param_grid, cv=5, scoring='f1', return_train_score = True,verbose=3)"
   ]
  },
  {
   "cell_type": "code",
   "execution_count": 87,
   "metadata": {
    "tags": []
   },
   "outputs": [],
   "source": [
    "# grid_search.fit(X_train_prepared, y_train)"
   ]
  },
  {
   "cell_type": "code",
   "execution_count": 88,
   "metadata": {},
   "outputs": [],
   "source": [
    "# grid_search.best_params_"
   ]
  },
  {
   "cell_type": "markdown",
   "metadata": {
    "id": "1cpSJ7PN2D1L"
   },
   "source": [
    "## BalancedRandomForestClassifier"
   ]
  },
  {
   "cell_type": "markdown",
   "metadata": {},
   "source": [
    "Using BalancedRandomForestClassifier for X_train_new"
   ]
  },
  {
   "cell_type": "code",
   "execution_count": 89,
   "metadata": {
    "id": "0d5bef3d",
    "outputId": "25651206-f090-403c-feab-c3fb2209d4f9"
   },
   "outputs": [
    {
     "data": {
      "text/plain": [
       "BalancedRandomForestClassifier(max_depth=11, max_samples=0.2505050505050505,\n",
       "                               n_estimators=21, random_state=42)"
      ]
     },
     "execution_count": 89,
     "metadata": {},
     "output_type": "execute_result"
    }
   ],
   "source": [
    "from imblearn.ensemble import BalancedRandomForestClassifier\n",
    "brf_clf = BalancedRandomForestClassifier(\n",
    "    max_depth=11,\n",
    " n_estimators= 21,\n",
    " max_samples=0.2505050505050505,\n",
    "    random_state=42)\n",
    "brf_clf.fit(X_train_new, y_train)"
   ]
  },
  {
   "cell_type": "code",
   "execution_count": 90,
   "metadata": {
    "id": "Htz8PhQt2D1M",
    "outputId": "2b8558ad-49bd-4295-9a13-16f21cd69a1c"
   },
   "outputs": [
    {
     "name": "stdout",
     "output_type": "stream",
     "text": [
      "precision_score : 0.35804701627486435\n",
      "recall_score : 0.9949748743718593\n",
      "f1_score : 0.526595744680851\n",
      "roc_auc_score : 0.8554874371859296\n"
     ]
    }
   ],
   "source": [
    "#Prediction in Train set\n",
    "y_brf_pred = brf_clf.predict(X_train_new)\n",
    "display_scores(y_train, y_brf_pred,'Balanced_Random_Forest',True)"
   ]
  },
  {
   "cell_type": "code",
   "execution_count": 91,
   "metadata": {
    "id": "rxnspUDo2D1M",
    "outputId": "424c82bb-1b3b-4b8b-9835-3ecaf85f4af8"
   },
   "outputs": [
    {
     "name": "stdout",
     "output_type": "stream",
     "text": [
      "precision_score : 0.3006993006993007\n",
      "recall_score : 0.864321608040201\n",
      "f1_score : 0.4461738002594034\n",
      "roc_auc_score : 0.7721608040201005\n"
     ]
    }
   ],
   "source": [
    "# Prediction in Validation set\n",
    "y_brf_pred_val = cross_val_predict(brf_clf, X_train_new, y_train, cv=5)\n",
    "display_scores(y_train, y_brf_pred_val,'Balanced_Random_Forest',False)"
   ]
  },
  {
   "cell_type": "code",
   "execution_count": 92,
   "metadata": {
    "id": "wo3mYGR02D1M",
    "outputId": "af288a27-e459-4da5-ad76-43f58197a8cd"
   },
   "outputs": [
    {
     "data": {
      "image/png": "[encoded data removed]",
      "text/plain": [
       "<Figure size 432x288 with 1 Axes>"
      ]
     },
     "metadata": {
      "needs_background": "light"
     },
     "output_type": "display_data"
    }
   ],
   "source": [
    "fpr, tpr, thresholds = roc_curve(y_train, y_brf_pred_val)\n",
    "plot_roc_curve(fpr, tpr)\n",
    "plt.show()"
   ]
  },
  {
   "cell_type": "code",
   "execution_count": 93,
   "metadata": {
    "id": "I1aFeyLh2D1M",
    "outputId": "1ba22354-cd3b-4e73-e583-af832e7ad70e"
   },
   "outputs": [
    {
     "data": {
      "image/png": "[encoded data removed]",
      "text/plain": [
       "<Figure size 432x288 with 1 Axes>"
      ]
     },
     "metadata": {
      "needs_background": "light"
     },
     "output_type": "display_data"
    }
   ],
   "source": [
    "plot_learning_curves(brf_clf, X_train_new, y_train)"
   ]
  },
  {
   "cell_type": "markdown",
   "metadata": {},
   "source": [
    "Balanced RandomForest Classifier performs well on training data and generalizes better than Random Forest With Class Weighting. But it does not beat Balanced Bagging Classifier"
   ]
  },
  {
   "cell_type": "code",
   "execution_count": 94,
   "metadata": {},
   "outputs": [],
   "source": [
    "# from sklearn.model_selection import GridSearchCV\n",
    "# param_grid = [{\n",
    "#     'max_depth' : range(10,11,12),\n",
    "#     'n_estimators' : range(21,22,23),\n",
    "#     'max_samples': np.linspace(0.2,0.4,100),\n",
    "# }]"
   ]
  },
  {
   "cell_type": "code",
   "execution_count": 95,
   "metadata": {},
   "outputs": [],
   "source": [
    "# grid_search = GridSearchCV(brf_clf, param_grid, cv=5, scoring='f1', return_train_score = True,verbose=3)"
   ]
  },
  {
   "cell_type": "code",
   "execution_count": 96,
   "metadata": {
    "tags": []
   },
   "outputs": [],
   "source": [
    "# grid_search.fit(X_train_prepared, y_train)"
   ]
  },
  {
   "cell_type": "code",
   "execution_count": 97,
   "metadata": {},
   "outputs": [],
   "source": [
    "# grid_search.best_params_"
   ]
  },
  {
   "cell_type": "markdown",
   "metadata": {
    "id": "a92009e1"
   },
   "source": [
    "## Easy Ensemble"
   ]
  },
  {
   "cell_type": "code",
   "execution_count": 98,
   "metadata": {
    "id": "2d906fac",
    "outputId": "ff20574e-b5a4-498c-b74d-4d08c2881e22"
   },
   "outputs": [
    {
     "data": {
      "text/plain": [
       "EasyEnsembleClassifier()"
      ]
     },
     "execution_count": 98,
     "metadata": {},
     "output_type": "execute_result"
    }
   ],
   "source": [
    "from imblearn.ensemble import EasyEnsembleClassifier\n",
    "ee_clf = EasyEnsembleClassifier(n_estimators=10)\n",
    "ee_clf.fit(X_train_new, y_train)"
   ]
  },
  {
   "cell_type": "code",
   "execution_count": 99,
   "metadata": {
    "id": "57cb03af",
    "outputId": "10ef6444-3793-44bd-890e-e4bf78ed06c7"
   },
   "outputs": [
    {
     "name": "stdout",
     "output_type": "stream",
     "text": [
      "precision_score : 0.31333333333333335\n",
      "recall_score : 0.9447236180904522\n",
      "f1_score : 0.4705882352941177\n",
      "roc_auc_score : 0.8075618090452261\n"
     ]
    }
   ],
   "source": [
    "#Prediction in Train set\n",
    "y_ee_pred = ee_clf.predict(X_train_new)\n",
    "display_scores(y_train, y_ee_pred,'Easy Ensemble',True)"
   ]
  },
  {
   "cell_type": "code",
   "execution_count": 100,
   "metadata": {
    "id": "Uz6C_Ed92D1O",
    "outputId": "93d9dd16-3594-417e-a05a-d2c77715536f"
   },
   "outputs": [
    {
     "name": "stdout",
     "output_type": "stream",
     "text": [
      "precision_score : 0.272419627749577\n",
      "recall_score : 0.8090452261306532\n",
      "f1_score : 0.40759493670886077\n",
      "roc_auc_score : 0.7325226130653266\n"
     ]
    }
   ],
   "source": [
    "# Prediction in Validation set\n",
    "y_ee_pred_val = cross_val_predict(ee_clf, X_train_new, y_train, cv=5)\n",
    "display_scores(y_train, y_ee_pred_val,'Easy Ensemble',False)"
   ]
  },
  {
   "cell_type": "code",
   "execution_count": 101,
   "metadata": {
    "id": "bQhHFeNR2D1P",
    "outputId": "1ac16d97-50ea-4727-c488-66fb1736ad7e"
   },
   "outputs": [
    {
     "data": {
      "image/png": "[encoded data removed]",
      "text/plain": [
       "<Figure size 432x288 with 1 Axes>"
      ]
     },
     "metadata": {
      "needs_background": "light"
     },
     "output_type": "display_data"
    }
   ],
   "source": [
    "fpr, tpr, thresholds = roc_curve(y_train, y_ee_pred_val)\n",
    "plot_roc_curve(fpr, tpr)\n",
    "plt.show()"
   ]
  },
  {
   "cell_type": "code",
   "execution_count": 102,
   "metadata": {
    "id": "uamw-5xq2D1P",
    "outputId": "dd49e161-228f-4521-8bce-9d3a7e6cb4ff"
   },
   "outputs": [
    {
     "data": {
      "image/png": "[encoded data removed]",
      "text/plain": [
       "<Figure size 432x288 with 1 Axes>"
      ]
     },
     "metadata": {
      "needs_background": "light"
     },
     "output_type": "display_data"
    }
   ],
   "source": [
    "plot_learning_curves(ee_clf, X_train_new, y_train)"
   ]
  },
  {
   "cell_type": "markdown",
   "metadata": {},
   "source": [
    "Easy Ensemble algorithm performs comparatively well on both training and cross validation."
   ]
  },
  {
   "cell_type": "markdown",
   "metadata": {},
   "source": [
    "### Perfomance on training set"
   ]
  },
  {
   "cell_type": "code",
   "execution_count": 103,
   "metadata": {},
   "outputs": [
    {
     "name": "stdout",
     "output_type": "stream",
     "text": [
      "NAME                      F1                   ROC_AUC             \n",
      "Logistic                  0.18699186991869918  0.548188944723618   \n",
      "Poly_ker_SVM              0.7869822485207102   0.8317708542713569  \n",
      "rbf_kernel_svc            0.7673716012084593   0.8170954773869347  \n",
      "Random_Forest             0.0                  0.5                 \n",
      "Gradient Boosting         0.5605536332179931   0.6999175879396984  \n",
      "Balanced_Bagging          0.5808383233532933   0.8774371859296483  \n",
      "Weighted_Random_Forest    0.6382978723404255   0.8782613065326632  \n",
      "Balanced_Random_Forest    0.526595744680851    0.8554874371859296  \n",
      "Easy Ensemble             0.4705882352941177   0.8075618090452261  \n"
     ]
    }
   ],
   "source": [
    "print (\"{:<25} {:<20} {:<20}\".format('NAME', 'F1', 'ROC_AUC'))\n",
    "  \n",
    "# print each data item.\n",
    "for key, value in train_perfomance.items():\n",
    "    f1, roc_auc = value\n",
    "    print (\"{:<25} {:<20} {:<20}\".format(key, f1, roc_auc))"
   ]
  },
  {
   "cell_type": "markdown",
   "metadata": {},
   "source": [
    "### Perfomance on cross_validation set"
   ]
  },
  {
   "cell_type": "code",
   "execution_count": 104,
   "metadata": {},
   "outputs": [
    {
     "name": "stdout",
     "output_type": "stream",
     "text": [
      "NAME                      F1                   ROC_AUC             \n",
      "Logistic                  0.17670682730923698  0.5440763819095478  \n",
      "Poly_ker_SVM              0.2842105263157895   0.584878391959799   \n",
      "rbf_kernel_svc            0.3180428134556575   0.6002532663316583  \n",
      "Random_Forest             0.0                  0.5                 \n",
      "Gradient Boosting         0.19379844961240308  0.5492140703517587  \n",
      "Balanced_Bagging          0.46376811594202905  0.7696100502512563  \n",
      "Weighted_Random_Forest    0.4151624548736462   0.6929447236180906  \n",
      "Balanced_Random_Forest    0.4461738002594034   0.7721608040201005  \n",
      "Easy Ensemble             0.40759493670886077  0.7325226130653266  \n"
     ]
    }
   ],
   "source": [
    "print (\"{:<25} {:<20} {:<20}\".format('NAME', 'F1', 'ROC_AUC'))\n",
    "  \n",
    "# print each data item.\n",
    "for key, value in val_perfomance.items():\n",
    "    f1, roc_auc = value\n",
    "    print (\"{:<25} {:<20} {:<20}\".format(key, f1, roc_auc))"
   ]
  },
  {
   "cell_type": "markdown",
   "metadata": {},
   "source": [
    "Balanced Bagging Classifier has better scored in both training cross-validation. Hence this model is selected."
   ]
  },
  {
   "cell_type": "markdown",
   "metadata": {
    "id": "-eyABSG52D1Q"
   },
   "source": [
    "## Testing"
   ]
  },
  {
   "cell_type": "code",
   "execution_count": 105,
   "metadata": {
    "id": "MVKPZXsH2D1Q"
   },
   "outputs": [
    {
     "name": "stdout",
     "output_type": "stream",
     "text": [
      "precision_score : 0.13804713804713806\n",
      "recall_score : 0.82\n",
      "f1_score : 0.23631123919308358\n",
      "roc_auc_score : 0.7783127572016459\n"
     ]
    }
   ],
   "source": [
    "final_predictions = bb_clf.predict(X_test_new)\n",
    "display_scores(y_test, final_predictions)"
   ]
  },
  {
   "cell_type": "markdown",
   "metadata": {},
   "source": [
    "Bagging is an ensemble algorithm that fits multiple models on different subsets of a training dataset, then combines the predictions from all models.\n",
    "\n",
    "Although effective, they are not suited to classification problems with a skewed class distribution.\n",
    "\n",
    "There are many ways to adapt bagging for use with imbalanced classification.\n",
    "\n",
    "The imbalanced-learn library provides a version of bagging that uses a random undersampling strategy on the majority class within a bootstrap sample in order to balance the two classes. This is provided in the BalancedBaggingClassifier class.\n"
   ]
  },
  {
   "cell_type": "markdown",
   "metadata": {},
   "source": [
    "AS this data is extremely skewed, only either high recall or high precision can be obtained, but not both. Hence high 'f1 score' cannot be expected."
   ]
  }
 ],
 "metadata": {
  "colab": {
   "collapsed_sections": [
    "cb19bc15",
    "e32f305a",
    "66e62460",
    "owgEaLYx2D08",
    "mrhAvPmd2D0-",
    "qsz7jlta2D1A",
    "rAF7_fMd2D1C",
    "ed307e29",
    "8dAOa1j62D1F",
    "9b4b1206",
    "AqWBeLGg2D1I",
    "1e748a44",
    "ePVn00Qq2D1K",
    "1cpSJ7PN2D1L",
    "RpHFhLJC2D1M",
    "a92009e1",
    "-eyABSG52D1Q"
   ],
   "name": "stroke_data.ipynb",
   "provenance": []
  },
  "kernelspec": {
   "display_name": "Python 3",
   "language": "python",
   "name": "python3"
  },
  "language_info": {
   "codemirror_mode": {
    "name": "ipython",
    "version": 3
   },
   "file_extension": ".py",
   "mimetype": "text/x-python",
   "name": "python",
   "nbconvert_exporter": "python",
   "pygments_lexer": "ipython3",
   "version": "3.8.5"
  }
 },
 "nbformat": 4,
 "nbformat_minor": 5
}
